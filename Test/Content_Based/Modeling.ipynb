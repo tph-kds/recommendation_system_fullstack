{
 "cells": [
  {
   "cell_type": "code",
   "execution_count": 12,
   "metadata": {},
   "outputs": [],
   "source": [
    "import pandas as pd\n",
    "import numpy as np\n",
    "import nltk\n",
    "import os\n",
    "import pickle\n",
    "\n",
    "from nltk.stem import PorterStemmer"
   ]
  },
  {
   "cell_type": "code",
   "execution_count": 18,
   "metadata": {},
   "outputs": [
    {
     "data": {
      "text/html": [
       "<div>\n",
       "<style scoped>\n",
       "    .dataframe tbody tr th:only-of-type {\n",
       "        vertical-align: middle;\n",
       "    }\n",
       "\n",
       "    .dataframe tbody tr th {\n",
       "        vertical-align: top;\n",
       "    }\n",
       "\n",
       "    .dataframe thead th {\n",
       "        text-align: right;\n",
       "    }\n",
       "</style>\n",
       "<table border=\"1\" class=\"dataframe\">\n",
       "  <thead>\n",
       "    <tr style=\"text-align: right;\">\n",
       "      <th></th>\n",
       "      <th>boardgame_id</th>\n",
       "      <th>boardgame_name</th>\n",
       "      <th>main_tags</th>\n",
       "    </tr>\n",
       "  </thead>\n",
       "  <tbody>\n",
       "    <tr>\n",
       "      <th>0</th>\n",
       "      <td>30549</td>\n",
       "      <td>Pandemic</td>\n",
       "      <td>in pandem sever virul diseas have broken out s...</td>\n",
       "    </tr>\n",
       "    <tr>\n",
       "      <th>1</th>\n",
       "      <td>822</td>\n",
       "      <td>Carcassonne</td>\n",
       "      <td>carcassonn is a tileplac game in which the pla...</td>\n",
       "    </tr>\n",
       "    <tr>\n",
       "      <th>2</th>\n",
       "      <td>13</td>\n",
       "      <td>Catan</td>\n",
       "      <td>in catan formerli the settler of catan player ...</td>\n",
       "    </tr>\n",
       "    <tr>\n",
       "      <th>3</th>\n",
       "      <td>68448</td>\n",
       "      <td>7 Wonders</td>\n",
       "      <td>you are the leader of one of the 7 great citi ...</td>\n",
       "    </tr>\n",
       "    <tr>\n",
       "      <th>4</th>\n",
       "      <td>36218</td>\n",
       "      <td>Dominion</td>\n",
       "      <td>quotyou are a monarch like your parent befor y...</td>\n",
       "    </tr>\n",
       "    <tr>\n",
       "      <th>...</th>\n",
       "      <td>...</td>\n",
       "      <td>...</td>\n",
       "      <td>...</td>\n",
       "    </tr>\n",
       "    <tr>\n",
       "      <th>20583</th>\n",
       "      <td>16874</td>\n",
       "      <td>Vince Lombardi's Game</td>\n",
       "      <td>quotvinc lombardi gamequot is a footbal simul ...</td>\n",
       "    </tr>\n",
       "    <tr>\n",
       "      <th>20584</th>\n",
       "      <td>3589</td>\n",
       "      <td>Beast Wars Transformers Mutating Card Game</td>\n",
       "      <td>from the boxth beast war have begun choos side...</td>\n",
       "    </tr>\n",
       "    <tr>\n",
       "      <th>20585</th>\n",
       "      <td>296892</td>\n",
       "      <td>Sacred Rites</td>\n",
       "      <td>it ha come time to honor the tradit of the pas...</td>\n",
       "    </tr>\n",
       "    <tr>\n",
       "      <th>20586</th>\n",
       "      <td>10052</td>\n",
       "      <td>Bongo Kongo</td>\n",
       "      <td>each player take a posit adjac to one of the f...</td>\n",
       "    </tr>\n",
       "    <tr>\n",
       "      <th>20587</th>\n",
       "      <td>165946</td>\n",
       "      <td>Green Beret: Vietnam</td>\n",
       "      <td>green beret vietnam give you command of a gree...</td>\n",
       "    </tr>\n",
       "  </tbody>\n",
       "</table>\n",
       "<p>20588 rows × 3 columns</p>\n",
       "</div>"
      ],
      "text/plain": [
       "       boardgame_id                              boardgame_name  \\\n",
       "0             30549                                    Pandemic   \n",
       "1               822                                 Carcassonne   \n",
       "2                13                                       Catan   \n",
       "3             68448                                   7 Wonders   \n",
       "4             36218                                    Dominion   \n",
       "...             ...                                         ...   \n",
       "20583         16874                       Vince Lombardi's Game   \n",
       "20584          3589  Beast Wars Transformers Mutating Card Game   \n",
       "20585        296892                                Sacred Rites   \n",
       "20586         10052                                 Bongo Kongo   \n",
       "20587        165946                        Green Beret: Vietnam   \n",
       "\n",
       "                                               main_tags  \n",
       "0      in pandem sever virul diseas have broken out s...  \n",
       "1      carcassonn is a tileplac game in which the pla...  \n",
       "2      in catan formerli the settler of catan player ...  \n",
       "3      you are the leader of one of the 7 great citi ...  \n",
       "4      quotyou are a monarch like your parent befor y...  \n",
       "...                                                  ...  \n",
       "20583  quotvinc lombardi gamequot is a footbal simul ...  \n",
       "20584  from the boxth beast war have begun choos side...  \n",
       "20585  it ha come time to honor the tradit of the pas...  \n",
       "20586  each player take a posit adjac to one of the f...  \n",
       "20587  green beret vietnam give you command of a gree...  \n",
       "\n",
       "[20588 rows x 3 columns]"
      ]
     },
     "execution_count": 18,
     "metadata": {},
     "output_type": "execute_result"
    }
   ],
   "source": [
    "# ps = PorterStemmer()\n",
    "data = pd.read_csv(\"../Datasets/content_based_dataset_stems.csv\")\n",
    "data\n"
   ]
  },
  {
   "cell_type": "code",
   "execution_count": 1,
   "metadata": {},
   "outputs": [],
   "source": [
    "from sklearn.feature_extraction.text import CountVectorizer\n",
    "cv = CountVectorizer(max_features=5000, stop_words=\"english\")"
   ]
  },
  {
   "cell_type": "code",
   "execution_count": 8,
   "metadata": {},
   "outputs": [],
   "source": [
    "test = [\"One boardgame helps Two boardgame\", \n",
    "        \"Two boardgame help Four boardgame\", \n",
    "        \"Each boardgame helps many other boardgames at class.\"]"
   ]
  },
  {
   "cell_type": "code",
   "execution_count": 9,
   "metadata": {},
   "outputs": [
    {
     "data": {
      "text/html": [
       "<style>#sk-container-id-2 {color: black;}#sk-container-id-2 pre{padding: 0;}#sk-container-id-2 div.sk-toggleable {background-color: white;}#sk-container-id-2 label.sk-toggleable__label {cursor: pointer;display: block;width: 100%;margin-bottom: 0;padding: 0.3em;box-sizing: border-box;text-align: center;}#sk-container-id-2 label.sk-toggleable__label-arrow:before {content: \"▸\";float: left;margin-right: 0.25em;color: #696969;}#sk-container-id-2 label.sk-toggleable__label-arrow:hover:before {color: black;}#sk-container-id-2 div.sk-estimator:hover label.sk-toggleable__label-arrow:before {color: black;}#sk-container-id-2 div.sk-toggleable__content {max-height: 0;max-width: 0;overflow: hidden;text-align: left;background-color: #f0f8ff;}#sk-container-id-2 div.sk-toggleable__content pre {margin: 0.2em;color: black;border-radius: 0.25em;background-color: #f0f8ff;}#sk-container-id-2 input.sk-toggleable__control:checked~div.sk-toggleable__content {max-height: 200px;max-width: 100%;overflow: auto;}#sk-container-id-2 input.sk-toggleable__control:checked~label.sk-toggleable__label-arrow:before {content: \"▾\";}#sk-container-id-2 div.sk-estimator input.sk-toggleable__control:checked~label.sk-toggleable__label {background-color: #d4ebff;}#sk-container-id-2 div.sk-label input.sk-toggleable__control:checked~label.sk-toggleable__label {background-color: #d4ebff;}#sk-container-id-2 input.sk-hidden--visually {border: 0;clip: rect(1px 1px 1px 1px);clip: rect(1px, 1px, 1px, 1px);height: 1px;margin: -1px;overflow: hidden;padding: 0;position: absolute;width: 1px;}#sk-container-id-2 div.sk-estimator {font-family: monospace;background-color: #f0f8ff;border: 1px dotted black;border-radius: 0.25em;box-sizing: border-box;margin-bottom: 0.5em;}#sk-container-id-2 div.sk-estimator:hover {background-color: #d4ebff;}#sk-container-id-2 div.sk-parallel-item::after {content: \"\";width: 100%;border-bottom: 1px solid gray;flex-grow: 1;}#sk-container-id-2 div.sk-label:hover label.sk-toggleable__label {background-color: #d4ebff;}#sk-container-id-2 div.sk-serial::before {content: \"\";position: absolute;border-left: 1px solid gray;box-sizing: border-box;top: 0;bottom: 0;left: 50%;z-index: 0;}#sk-container-id-2 div.sk-serial {display: flex;flex-direction: column;align-items: center;background-color: white;padding-right: 0.2em;padding-left: 0.2em;position: relative;}#sk-container-id-2 div.sk-item {position: relative;z-index: 1;}#sk-container-id-2 div.sk-parallel {display: flex;align-items: stretch;justify-content: center;background-color: white;position: relative;}#sk-container-id-2 div.sk-item::before, #sk-container-id-2 div.sk-parallel-item::before {content: \"\";position: absolute;border-left: 1px solid gray;box-sizing: border-box;top: 0;bottom: 0;left: 50%;z-index: -1;}#sk-container-id-2 div.sk-parallel-item {display: flex;flex-direction: column;z-index: 1;position: relative;background-color: white;}#sk-container-id-2 div.sk-parallel-item:first-child::after {align-self: flex-end;width: 50%;}#sk-container-id-2 div.sk-parallel-item:last-child::after {align-self: flex-start;width: 50%;}#sk-container-id-2 div.sk-parallel-item:only-child::after {width: 0;}#sk-container-id-2 div.sk-dashed-wrapped {border: 1px dashed gray;margin: 0 0.4em 0.5em 0.4em;box-sizing: border-box;padding-bottom: 0.4em;background-color: white;}#sk-container-id-2 div.sk-label label {font-family: monospace;font-weight: bold;display: inline-block;line-height: 1.2em;}#sk-container-id-2 div.sk-label-container {text-align: center;}#sk-container-id-2 div.sk-container {/* jupyter's `normalize.less` sets `[hidden] { display: none; }` but bootstrap.min.css set `[hidden] { display: none !important; }` so we also need the `!important` here to be able to override the default hidden behavior on the sphinx rendered scikit-learn.org. See: https://github.com/scikit-learn/scikit-learn/issues/21755 */display: inline-block !important;position: relative;}#sk-container-id-2 div.sk-text-repr-fallback {display: none;}</style><div id=\"sk-container-id-2\" class=\"sk-top-container\"><div class=\"sk-text-repr-fallback\"><pre>CountVectorizer(max_features=5000, stop_words=&#x27;english&#x27;)</pre><b>In a Jupyter environment, please rerun this cell to show the HTML representation or trust the notebook. <br />On GitHub, the HTML representation is unable to render, please try loading this page with nbviewer.org.</b></div><div class=\"sk-container\" hidden><div class=\"sk-item\"><div class=\"sk-estimator sk-toggleable\"><input class=\"sk-toggleable__control sk-hidden--visually\" id=\"sk-estimator-id-2\" type=\"checkbox\" checked><label for=\"sk-estimator-id-2\" class=\"sk-toggleable__label sk-toggleable__label-arrow\">CountVectorizer</label><div class=\"sk-toggleable__content\"><pre>CountVectorizer(max_features=5000, stop_words=&#x27;english&#x27;)</pre></div></div></div></div></div>"
      ],
      "text/plain": [
       "CountVectorizer(max_features=5000, stop_words='english')"
      ]
     },
     "execution_count": 9,
     "metadata": {},
     "output_type": "execute_result"
    }
   ],
   "source": [
    "vector = cv.fit(test)\n",
    "vector"
   ]
  },
  {
   "cell_type": "code",
   "execution_count": 14,
   "metadata": {},
   "outputs": [
    {
     "data": {
      "text/plain": [
       "{'boardgame': 0, 'helps': 4, 'help': 3, 'boardgames': 1, 'class': 2}"
      ]
     },
     "execution_count": 14,
     "metadata": {},
     "output_type": "execute_result"
    }
   ],
   "source": [
    "vector.vocabulary_"
   ]
  },
  {
   "cell_type": "code",
   "execution_count": 16,
   "metadata": {},
   "outputs": [
    {
     "data": {
      "text/html": [
       "<div>\n",
       "<style scoped>\n",
       "    .dataframe tbody tr th:only-of-type {\n",
       "        vertical-align: middle;\n",
       "    }\n",
       "\n",
       "    .dataframe tbody tr th {\n",
       "        vertical-align: top;\n",
       "    }\n",
       "\n",
       "    .dataframe thead th {\n",
       "        text-align: right;\n",
       "    }\n",
       "</style>\n",
       "<table border=\"1\" class=\"dataframe\">\n",
       "  <thead>\n",
       "    <tr style=\"text-align: right;\">\n",
       "      <th></th>\n",
       "      <th>0</th>\n",
       "      <th>1</th>\n",
       "      <th>2</th>\n",
       "      <th>3</th>\n",
       "      <th>4</th>\n",
       "    </tr>\n",
       "  </thead>\n",
       "  <tbody>\n",
       "    <tr>\n",
       "      <th>0</th>\n",
       "      <td>2</td>\n",
       "      <td>0</td>\n",
       "      <td>0</td>\n",
       "      <td>0</td>\n",
       "      <td>1</td>\n",
       "    </tr>\n",
       "    <tr>\n",
       "      <th>1</th>\n",
       "      <td>2</td>\n",
       "      <td>0</td>\n",
       "      <td>0</td>\n",
       "      <td>1</td>\n",
       "      <td>0</td>\n",
       "    </tr>\n",
       "    <tr>\n",
       "      <th>2</th>\n",
       "      <td>1</td>\n",
       "      <td>1</td>\n",
       "      <td>1</td>\n",
       "      <td>0</td>\n",
       "      <td>1</td>\n",
       "    </tr>\n",
       "  </tbody>\n",
       "</table>\n",
       "</div>"
      ],
      "text/plain": [
       "   0  1  2  3  4\n",
       "0  2  0  0  0  1\n",
       "1  2  0  0  1  0\n",
       "2  1  1  1  0  1"
      ]
     },
     "execution_count": 16,
     "metadata": {},
     "output_type": "execute_result"
    }
   ],
   "source": [
    "pd.DataFrame(vector.transform(test).toarray())"
   ]
  },
  {
   "cell_type": "code",
   "execution_count": 19,
   "metadata": {},
   "outputs": [
    {
     "data": {
      "text/plain": [
       "<20588x5000 sparse matrix of type '<class 'numpy.int64'>'\n",
       "\twith 4860735 stored elements in Compressed Sparse Row format>"
      ]
     },
     "execution_count": 19,
     "metadata": {},
     "output_type": "execute_result"
    }
   ],
   "source": [
    "vector = cv.fit_transform(data[\"main_tags\"])\n",
    "vector"
   ]
  },
  {
   "cell_type": "code",
   "execution_count": 20,
   "metadata": {},
   "outputs": [
    {
     "data": {
      "text/plain": [
       "array([[1.        , 0.93025526, 0.93651672, ..., 0.40627318, 0.34666219,\n",
       "        0.31444602],\n",
       "       [0.93025526, 1.        , 0.95334654, ..., 0.40694715, 0.32550668,\n",
       "        0.30566404],\n",
       "       [0.93651672, 0.95334654, 1.        , ..., 0.41057804, 0.33834217,\n",
       "        0.30685789],\n",
       "       ...,\n",
       "       [0.40627318, 0.40694715, 0.41057804, ..., 1.        , 0.14213381,\n",
       "        0.13005122],\n",
       "       [0.34666219, 0.32550668, 0.33834217, ..., 0.14213381, 1.        ,\n",
       "        0.15249857],\n",
       "       [0.31444602, 0.30566404, 0.30685789, ..., 0.13005122, 0.15249857,\n",
       "        1.        ]])"
      ]
     },
     "execution_count": 20,
     "metadata": {},
     "output_type": "execute_result"
    }
   ],
   "source": [
    "from sklearn.metrics.pairwise import cosine_similarity\n",
    "similary = cosine_similarity(vector)\n",
    "similary"
   ]
  },
  {
   "cell_type": "code",
   "execution_count": 37,
   "metadata": {},
   "outputs": [],
   "source": [
    "\n",
    "def recommendation_system_cb(data, similary, boardgame, k):\n",
    "    index  = data[data[\"boardgame_name\"] == boardgame].index[0]\n",
    "    distances = sorted(list(enumerate(similary[index])), reverse= True, key= lambda x : x[1])\n",
    "    # print(distances)\n",
    "    for distance in distances[1:k+1]:\n",
    "        print(data.iloc[distance[0]][\"boardgame_name\"])"
   ]
  },
  {
   "cell_type": "code",
   "execution_count": 38,
   "metadata": {},
   "outputs": [
    {
     "name": "stdout",
     "output_type": "stream",
     "text": [
      "The Lord of the Rings: The Card Game 0.9094899864777303\n",
      "Sentinels of the Multiverse 0.8944677073647502\n",
      "Legendary: A Marvel Deck Building Game 0.8912252932187208\n",
      "Arkham Horror: The Card Game 0.8854481740924057\n",
      "Android: Netrunner 0.913645778286805\n"
     ]
    }
   ],
   "source": [
    "boardgame = \"Marvel Champions: The Card Game\"\n",
    "recommendation_system_cb(data, similary, boardgame=boardgame, k=5)"
   ]
  },
  {
   "cell_type": "code",
   "execution_count": 11,
   "metadata": {},
   "outputs": [],
   "source": [
    "\n",
    "\n",
    "# folder = \"artifacts\"\n",
    "# if not os.path.exists(folder):\n",
    "#     os.makedirs(folder)\n",
    "#     print(f\" Tạo thành công thư mục {folder} mới.\")\n",
    "# else:\n",
    "#     os.rmdir(folder)\n",
    "#     print(f\" Xóa thành công thư mục {folder} hiện tại.\")\n",
    "#     os.makedirs(folder)\n",
    "#     print(f\" Tạo thành công thư mục {folder} mới.\")\n",
    "\n",
    "\n",
    "\n",
    "pickle.dump(data, open(\"artifacts/data_boardgame_content_based.pkl\", \"wb\"))\n",
    "pickle.dump(similary, open(\"artifacts/similarity_boardgame_content_based.pkl\", \"wb\"))\n",
    "pickle.dump(vector, open(\"artifacts/similarity_vector_tags_content_based.pkl\", \"wb\"))"
   ]
  },
  {
   "cell_type": "code",
   "execution_count": null,
   "metadata": {},
   "outputs": [],
   "source": []
  }
 ],
 "metadata": {
  "kernelspec": {
   "display_name": "Python 3",
   "language": "python",
   "name": "python3"
  },
  "language_info": {
   "codemirror_mode": {
    "name": "ipython",
    "version": 3
   },
   "file_extension": ".py",
   "mimetype": "text/x-python",
   "name": "python",
   "nbconvert_exporter": "python",
   "pygments_lexer": "ipython3",
   "version": "3.9.0"
  }
 },
 "nbformat": 4,
 "nbformat_minor": 2
}
