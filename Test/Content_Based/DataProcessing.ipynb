{
 "cells": [
  {
   "cell_type": "code",
   "execution_count": 1,
   "metadata": {},
   "outputs": [],
   "source": [
    "import pandas as pd\n",
    "import numpy as np\n",
    "import nltk\n",
    "import os\n",
    "from nltk.stem import PorterStemmer"
   ]
  },
  {
   "cell_type": "code",
   "execution_count": 2,
   "metadata": {},
   "outputs": [
    {
     "data": {
      "text/html": [
       "<div>\n",
       "<style scoped>\n",
       "    .dataframe tbody tr th:only-of-type {\n",
       "        vertical-align: middle;\n",
       "    }\n",
       "\n",
       "    .dataframe tbody tr th {\n",
       "        vertical-align: top;\n",
       "    }\n",
       "\n",
       "    .dataframe thead th {\n",
       "        text-align: right;\n",
       "    }\n",
       "</style>\n",
       "<table border=\"1\" class=\"dataframe\">\n",
       "  <thead>\n",
       "    <tr style=\"text-align: right;\">\n",
       "      <th></th>\n",
       "      <th>boardgame_id</th>\n",
       "      <th>boardgame_name</th>\n",
       "      <th>main_tags</th>\n",
       "    </tr>\n",
       "  </thead>\n",
       "  <tbody>\n",
       "    <tr>\n",
       "      <th>0</th>\n",
       "      <td>30549</td>\n",
       "      <td>Pandemic</td>\n",
       "      <td>in pandemic several virulent diseases have bro...</td>\n",
       "    </tr>\n",
       "    <tr>\n",
       "      <th>1</th>\n",
       "      <td>822</td>\n",
       "      <td>Carcassonne</td>\n",
       "      <td>carcassonne is a tileplacement game in which t...</td>\n",
       "    </tr>\n",
       "    <tr>\n",
       "      <th>2</th>\n",
       "      <td>13</td>\n",
       "      <td>Catan</td>\n",
       "      <td>in catan formerly the settlers of catan player...</td>\n",
       "    </tr>\n",
       "    <tr>\n",
       "      <th>3</th>\n",
       "      <td>68448</td>\n",
       "      <td>7 Wonders</td>\n",
       "      <td>you are the leader of one of the 7 great citie...</td>\n",
       "    </tr>\n",
       "    <tr>\n",
       "      <th>4</th>\n",
       "      <td>36218</td>\n",
       "      <td>Dominion</td>\n",
       "      <td>quotyou are a monarch like your parents before...</td>\n",
       "    </tr>\n",
       "    <tr>\n",
       "      <th>...</th>\n",
       "      <td>...</td>\n",
       "      <td>...</td>\n",
       "      <td>...</td>\n",
       "    </tr>\n",
       "    <tr>\n",
       "      <th>20583</th>\n",
       "      <td>16874</td>\n",
       "      <td>Vince Lombardi's Game</td>\n",
       "      <td>quotvince lombardis gamequot is a football sim...</td>\n",
       "    </tr>\n",
       "    <tr>\n",
       "      <th>20584</th>\n",
       "      <td>3589</td>\n",
       "      <td>Beast Wars Transformers Mutating Card Game</td>\n",
       "      <td>from the boxthe beast wars have begun choose s...</td>\n",
       "    </tr>\n",
       "    <tr>\n",
       "      <th>20585</th>\n",
       "      <td>296892</td>\n",
       "      <td>Sacred Rites</td>\n",
       "      <td>it has come time to honor the traditions of th...</td>\n",
       "    </tr>\n",
       "    <tr>\n",
       "      <th>20586</th>\n",
       "      <td>10052</td>\n",
       "      <td>Bongo Kongo</td>\n",
       "      <td>each player takes a position adjacent to one o...</td>\n",
       "    </tr>\n",
       "    <tr>\n",
       "      <th>20587</th>\n",
       "      <td>165946</td>\n",
       "      <td>Green Beret: Vietnam</td>\n",
       "      <td>green beret vietnam gives you command of a gre...</td>\n",
       "    </tr>\n",
       "  </tbody>\n",
       "</table>\n",
       "<p>20588 rows × 3 columns</p>\n",
       "</div>"
      ],
      "text/plain": [
       "       boardgame_id                              boardgame_name  \\\n",
       "0             30549                                    Pandemic   \n",
       "1               822                                 Carcassonne   \n",
       "2                13                                       Catan   \n",
       "3             68448                                   7 Wonders   \n",
       "4             36218                                    Dominion   \n",
       "...             ...                                         ...   \n",
       "20583         16874                       Vince Lombardi's Game   \n",
       "20584          3589  Beast Wars Transformers Mutating Card Game   \n",
       "20585        296892                                Sacred Rites   \n",
       "20586         10052                                 Bongo Kongo   \n",
       "20587        165946                        Green Beret: Vietnam   \n",
       "\n",
       "                                               main_tags  \n",
       "0      in pandemic several virulent diseases have bro...  \n",
       "1      carcassonne is a tileplacement game in which t...  \n",
       "2      in catan formerly the settlers of catan player...  \n",
       "3      you are the leader of one of the 7 great citie...  \n",
       "4      quotyou are a monarch like your parents before...  \n",
       "...                                                  ...  \n",
       "20583  quotvince lombardis gamequot is a football sim...  \n",
       "20584  from the boxthe beast wars have begun choose s...  \n",
       "20585  it has come time to honor the traditions of th...  \n",
       "20586  each player takes a position adjacent to one o...  \n",
       "20587  green beret vietnam gives you command of a gre...  \n",
       "\n",
       "[20588 rows x 3 columns]"
      ]
     },
     "execution_count": 2,
     "metadata": {},
     "output_type": "execute_result"
    }
   ],
   "source": [
    "ps = PorterStemmer()\n",
    "data = pd.read_csv(\"../Datasets/content_based_dataset.csv\")\n",
    "data\n"
   ]
  },
  {
   "cell_type": "code",
   "execution_count": 3,
   "metadata": {},
   "outputs": [],
   "source": [
    "def stems(text):\n",
    "    l = []\n",
    "    for i in str(text).split():\n",
    "        l.append(ps.stem(str(i)))\n",
    "\n",
    "    return \" \".join(l)"
   ]
  },
  {
   "cell_type": "code",
   "execution_count": 4,
   "metadata": {},
   "outputs": [],
   "source": [
    "data[\"main_tags\"] = data[\"main_tags\"].apply(stems)"
   ]
  },
  {
   "cell_type": "code",
   "execution_count": 5,
   "metadata": {},
   "outputs": [],
   "source": [
    "data.to_csv(\"../Datasets/content_based_dataset_stems.csv\", index= False)"
   ]
  },
  {
   "cell_type": "code",
   "execution_count": null,
   "metadata": {},
   "outputs": [],
   "source": []
  }
 ],
 "metadata": {
  "kernelspec": {
   "display_name": "Python 3",
   "language": "python",
   "name": "python3"
  },
  "language_info": {
   "codemirror_mode": {
    "name": "ipython",
    "version": 3
   },
   "file_extension": ".py",
   "mimetype": "text/x-python",
   "name": "python",
   "nbconvert_exporter": "python",
   "pygments_lexer": "ipython3",
   "version": "3.9.0"
  }
 },
 "nbformat": 4,
 "nbformat_minor": 2
}
